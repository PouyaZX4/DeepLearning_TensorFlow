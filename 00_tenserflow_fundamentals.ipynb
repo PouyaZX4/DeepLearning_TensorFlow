{
  "cells": [
    {
      "cell_type": "markdown",
      "metadata": {
        "id": "118XYweWWqNo"
      },
      "source": [
        "# in this notebook, we're going tp cover some of the most practical fundamental concepts of tensor using TensorFloW\n",
        "\n",
        "More specifically, we're going to cover:\n",
        "* Intruduction to tensors\n",
        "* Getting to tensors\n",
        "* Maniuplate the tensors\n",
        "* Tensors , NumPy\n",
        "* Using @tf.function (a way to speed up your regular Python functions)\n",
        "* Using GPUs with Tenserflow (or TOUs)\n",
        "* Exersises to try yourself!"
      ]
    },
    {
      "cell_type": "markdown",
      "metadata": {
        "id": "tkd01oz3XH_7"
      },
      "source": [
        "## Intrudution to Tensors"
      ]
    },
    {
      "cell_type": "code",
      "execution_count": null,
      "metadata": {
        "colab": {
          "background_save": true,
          "base_uri": "https://localhost:8080/"
        },
        "id": "0sx3MfhiX_Dw",
        "outputId": "ba5b435e-3c36-4acf-d2fd-fee2e3676862"
      },
      "outputs": [
        {
          "name": "stdout",
          "output_type": "stream",
          "text": [
            "2.15.0\n"
          ]
        }
      ],
      "source": [
        "# Import TenserFlow & Check the version\n",
        "import tensorflow as tf\n",
        "print(tf.__version__)"
      ]
    },
    {
      "cell_type": "code",
      "execution_count": null,
      "metadata": {
        "colab": {
          "background_save": true,
          "base_uri": "https://localhost:8080/"
        },
        "id": "JIAYDGV6YJN7",
        "outputId": "0650465b-546e-43ed-a653-74243a074905"
      },
      "outputs": [
        {
          "data": {
            "text/plain": [
              "<tf.Tensor: shape=(), dtype=int32, numpy=7>"
            ]
          },
          "execution_count": 2,
          "metadata": {},
          "output_type": "execute_result"
        }
      ],
      "source": [
        "# Create tensors with tf.constant()\n",
        "scaler = tf.constant(7)\n",
        "scaler"
      ]
    },
    {
      "cell_type": "code",
      "execution_count": null,
      "metadata": {
        "colab": {
          "background_save": true,
          "base_uri": "https://localhost:8080/"
        },
        "id": "is_Pk71oY0u7",
        "outputId": "406937db-003a-4faf-9177-190853e4b452"
      },
      "outputs": [
        {
          "data": {
            "text/plain": [
              "0"
            ]
          },
          "execution_count": 3,
          "metadata": {},
          "output_type": "execute_result"
        }
      ],
      "source": [
        "# Check the nummber of dimentions of a tensor (ndim stands for number of dimentions)\n",
        "scaler.ndim"
      ]
    },
    {
      "cell_type": "code",
      "execution_count": null,
      "metadata": {
        "colab": {
          "background_save": true,
          "base_uri": "https://localhost:8080/"
        },
        "id": "iHUn-mjAZYdO",
        "outputId": "453639ce-ef65-4137-9714-fbf57b9eecac"
      },
      "outputs": [
        {
          "data": {
            "text/plain": [
              "<tf.Tensor: shape=(2,), dtype=int32, numpy=array([10, 10], dtype=int32)>"
            ]
          },
          "execution_count": 4,
          "metadata": {},
          "output_type": "execute_result"
        }
      ],
      "source": [
        "# Create a Vector\n",
        "vector = tf.constant([10, 10])\n",
        "vector"
      ]
    },
    {
      "cell_type": "code",
      "execution_count": null,
      "metadata": {
        "colab": {
          "background_save": true,
          "base_uri": "https://localhost:8080/"
        },
        "id": "nDOy4kCeZgOB",
        "outputId": "23758f4d-acad-4c7f-f14a-86d22a2797a6"
      },
      "outputs": [
        {
          "data": {
            "text/plain": [
              "1"
            ]
          },
          "execution_count": 5,
          "metadata": {},
          "output_type": "execute_result"
        }
      ],
      "source": [
        "# Check the dimention of out vector\n",
        "vector.ndim"
      ]
    },
    {
      "cell_type": "code",
      "execution_count": null,
      "metadata": {
        "colab": {
          "background_save": true,
          "base_uri": "https://localhost:8080/"
        },
        "id": "Lqi6WIQlZwL1",
        "outputId": "c3374589-5614-43a3-d847-f23eaae164f7"
      },
      "outputs": [
        {
          "data": {
            "text/plain": [
              "<tf.Tensor: shape=(2, 2), dtype=int32, numpy=\n",
              "array([[10,  7],\n",
              "       [ 7, 10]], dtype=int32)>"
            ]
          },
          "execution_count": 6,
          "metadata": {},
          "output_type": "execute_result"
        }
      ],
      "source": [
        "# Create a metrix (has more than 1 dimetion)\n",
        "matrix = tf.constant([[10, 7],\n",
        "                      [7, 10]])\n",
        "matrix"
      ]
    },
    {
      "cell_type": "code",
      "execution_count": null,
      "metadata": {
        "colab": {
          "background_save": true,
          "base_uri": "https://localhost:8080/"
        },
        "id": "nzEJPr74Z6-l",
        "outputId": "f16b2d3b-5706-45bf-b9aa-0bac2a9f57f7"
      },
      "outputs": [
        {
          "data": {
            "text/plain": [
              "2"
            ]
          },
          "execution_count": 7,
          "metadata": {},
          "output_type": "execute_result"
        }
      ],
      "source": [
        "# Checking the numebr of dimentions of our matrix\n",
        "matrix.ndim"
      ]
    },
    {
      "cell_type": "code",
      "execution_count": null,
      "metadata": {
        "colab": {
          "background_save": true,
          "base_uri": "https://localhost:8080/"
        },
        "id": "Lx3gFxbqaFVJ",
        "outputId": "4d1089e1-e5a9-47a6-98eb-f573b841d1f1"
      },
      "outputs": [
        {
          "data": {
            "text/plain": [
              "<tf.Tensor: shape=(3, 2), dtype=float16, numpy=\n",
              "array([[10.,  7.],\n",
              "       [ 3.,  2.],\n",
              "       [ 8.,  9.]], dtype=float16)>"
            ]
          },
          "execution_count": 8,
          "metadata": {},
          "output_type": "execute_result"
        }
      ],
      "source": [
        "# Create another matrix\n",
        "another_matrix = tf.constant( [[10., 7.],\n",
        "                              [3., 2.],\n",
        "                               [8., 9.]], dtype = tf.float16 ) # Specify the data type with dtype parameter\n",
        "                               # The tf.float set a particular data type and that's cause the higher the bit of the precisior the\n",
        "                               # more accurate will the number be stored on the storage\n",
        "another_matrix"
      ]
    },
    {
      "cell_type": "code",
      "execution_count": null,
      "metadata": {
        "colab": {
          "background_save": true,
          "base_uri": "https://localhost:8080/"
        },
        "id": "NuTDcHh0aPGR",
        "outputId": "6f225db6-bee5-41df-eb1f-f8576661ff7b"
      },
      "outputs": [
        {
          "data": {
            "text/plain": [
              "(2, TensorShape([3, 2]))"
            ]
          },
          "execution_count": 9,
          "metadata": {},
          "output_type": "execute_result"
        }
      ],
      "source": [
        "# What do you think the number of dimentions are in another_matrix?\n",
        "another_matrix.ndim, another_matrix.shape"
      ]
    },
    {
      "cell_type": "code",
      "execution_count": null,
      "metadata": {
        "colab": {
          "base_uri": "https://localhost:8080/"
        },
        "id": "ULlL-L95bXGF",
        "outputId": "c338a8c9-bd0b-4de8-8ec5-c5e142ef7f83"
      },
      "outputs": [
        {
          "data": {
            "text/plain": [
              "<tf.Tensor: shape=(2, 3, 3), dtype=int32, numpy=\n",
              "array([[[ 1,  2,  3],\n",
              "        [ 4,  5,  6],\n",
              "        [ 7,  8,  9]],\n",
              "\n",
              "       [[10, 11, 12],\n",
              "        [13, 14, 15],\n",
              "        [16, 16, 17]]], dtype=int32)>"
            ]
          },
          "execution_count": 12,
          "metadata": {},
          "output_type": "execute_result"
        }
      ],
      "source": [
        "# Let's create a tensor\n",
        "tensor = tf.constant([[[1, 2, 3],\n",
        "                       [4, 5, 6],\n",
        "                      [7, 8, 9]],\n",
        "                      [[10, 11, 12],\n",
        "                      [13, 14, 15],\n",
        "                      [16, 16, 17]]])\n",
        "tensor"
      ]
    },
    {
      "cell_type": "code",
      "execution_count": null,
      "metadata": {
        "colab": {
          "base_uri": "https://localhost:8080/"
        },
        "id": "rBzT8XOlcEbv",
        "outputId": "97fabb5f-ed2f-42ad-d774-e11ca3d55de8"
      },
      "outputs": [
        {
          "data": {
            "text/plain": [
              "3"
            ]
          },
          "execution_count": 13,
          "metadata": {},
          "output_type": "execute_result"
        }
      ],
      "source": [
        "tensor.ndim"
      ]
    },
    {
      "cell_type": "markdown",
      "metadata": {
        "id": "Kt-c7pFOcaWx"
      },
      "source": [
        "What we've created so far:\n",
        "* Scaler : a single number\n",
        "* Vector : a number with direction (e.g. wind speed and direction)\n",
        "* Matrix : a 2-dimentional array of numbers\n",
        "* Tensor : an n-dimensional array of numbers (when n can be any number, a 0-dimentinal tensoe is a scalar, a 1-dimontioanl tensor is a vector)"
      ]
    },
    {
      "cell_type": "code",
      "execution_count": null,
      "metadata": {
        "colab": {
          "base_uri": "https://localhost:8080/",
          "height": 186
        },
        "id": "q67h1pvfdPc_",
        "outputId": "2e9b3259-40bc-482b-cc0b-e227619c214c"
      },
      "outputs": [
        {
          "data": {
            "text/html": [
              "<div style=\"max-width:800px; border: 1px solid var(--colab-border-color);\"><style>\n",
              "      pre.function-repr-contents {\n",
              "        overflow-x: auto;\n",
              "        padding: 8px 12px;\n",
              "        max-height: 500px;\n",
              "      }\n",
              "\n",
              "      pre.function-repr-contents.function-repr-contents-collapsed {\n",
              "        cursor: pointer;\n",
              "        max-height: 100px;\n",
              "      }\n",
              "    </style>\n",
              "    <pre style=\"white-space: initial; background:\n",
              "         var(--colab-secondary-surface-color); padding: 8px 12px;\n",
              "         border-bottom: 1px solid var(--colab-border-color);\"><b>tensorflow.python.ops.variables.Variable</b><br/>def error_handler(*args, **kwargs)</pre><pre class=\"function-repr-contents function-repr-contents-collapsed\" style=\"\"><a class=\"filepath\" style=\"display:none\" href=\"#\">/usr/local/lib/python3.10/dist-packages/tensorflow/python/ops/variables.py</a>See the [variable guide](https://tensorflow.org/guide/variable).\n",
              "\n",
              "A variable maintains shared, persistent state manipulated by a program.\n",
              "\n",
              "The `Variable()` constructor requires an initial value for the variable, which\n",
              "can be a `Tensor` of any type and shape. This initial value defines the type\n",
              "and shape of the variable. After construction, the type and shape of the\n",
              "variable are fixed. The value can be changed using one of the assign methods.\n",
              "\n",
              "&gt;&gt;&gt; v = tf.Variable(1.)\n",
              "&gt;&gt;&gt; v.assign(2.)\n",
              "&lt;tf.Variable ... shape=() dtype=float32, numpy=2.0&gt;\n",
              "&gt;&gt;&gt; v.assign_add(0.5)\n",
              "&lt;tf.Variable ... shape=() dtype=float32, numpy=2.5&gt;\n",
              "\n",
              "The `shape` argument to `Variable`&#x27;s constructor allows you to construct a\n",
              "variable with a less defined shape than its `initial_value`:\n",
              "\n",
              "&gt;&gt;&gt; v = tf.Variable(1., shape=tf.TensorShape(None))\n",
              "&gt;&gt;&gt; v.assign([[1.]])\n",
              "&lt;tf.Variable ... shape=&lt;unknown&gt; dtype=float32, numpy=array([[1.]], ...)&gt;\n",
              "\n",
              "Just like any `Tensor`, variables created with `Variable()` can be used as\n",
              "inputs to operations. Additionally, all the operators overloaded for the\n",
              "`Tensor` class are carried over to variables.\n",
              "\n",
              "&gt;&gt;&gt; w = tf.Variable([[1.], [2.]])\n",
              "&gt;&gt;&gt; x = tf.constant([[3., 4.]])\n",
              "&gt;&gt;&gt; tf.matmul(w, x)\n",
              "&lt;tf.Tensor:... shape=(2, 2), ... numpy=\n",
              "  array([[3., 4.],\n",
              "         [6., 8.]], dtype=float32)&gt;\n",
              "&gt;&gt;&gt; tf.sigmoid(w + x)\n",
              "&lt;tf.Tensor:... shape=(2, 2), ...&gt;\n",
              "\n",
              "When building a machine learning model it is often convenient to distinguish\n",
              "between variables holding trainable model parameters and other variables such\n",
              "as a `step` variable used to count training steps. To make this easier, the\n",
              "variable constructor supports a `trainable=&lt;bool&gt;`\n",
              "parameter. `tf.GradientTape` watches trainable variables by default:\n",
              "\n",
              "&gt;&gt;&gt; with tf.GradientTape(persistent=True) as tape:\n",
              "...   trainable = tf.Variable(1.)\n",
              "...   non_trainable = tf.Variable(2., trainable=False)\n",
              "...   x1 = trainable * 2.\n",
              "...   x2 = non_trainable * 3.\n",
              "&gt;&gt;&gt; tape.gradient(x1, trainable)\n",
              "&lt;tf.Tensor:... shape=(), dtype=float32, numpy=2.0&gt;\n",
              "&gt;&gt;&gt; assert tape.gradient(x2, non_trainable) is None  # Unwatched\n",
              "\n",
              "Variables are automatically tracked when assigned to attributes of types\n",
              "inheriting from `tf.Module`.\n",
              "\n",
              "&gt;&gt;&gt; m = tf.Module()\n",
              "&gt;&gt;&gt; m.v = tf.Variable([1.])\n",
              "&gt;&gt;&gt; m.trainable_variables\n",
              "(&lt;tf.Variable ... shape=(1,) ... numpy=array([1.], dtype=float32)&gt;,)\n",
              "\n",
              "This tracking then allows saving variable values to\n",
              "[training checkpoints](https://www.tensorflow.org/guide/checkpoint), or to\n",
              "[SavedModels](https://www.tensorflow.org/guide/saved_model) which include\n",
              "serialized TensorFlow graphs.\n",
              "\n",
              "Variables are often captured and manipulated by `tf.function`s. This works the\n",
              "same way the un-decorated function would have:\n",
              "\n",
              "&gt;&gt;&gt; v = tf.Variable(0.)\n",
              "&gt;&gt;&gt; read_and_decrement = tf.function(lambda: v.assign_sub(0.1))\n",
              "&gt;&gt;&gt; read_and_decrement()\n",
              "&lt;tf.Tensor: shape=(), dtype=float32, numpy=-0.1&gt;\n",
              "&gt;&gt;&gt; read_and_decrement()\n",
              "&lt;tf.Tensor: shape=(), dtype=float32, numpy=-0.2&gt;\n",
              "\n",
              "Variables created inside a `tf.function` must be owned outside the function\n",
              "and be created only once:\n",
              "\n",
              "&gt;&gt;&gt; class M(tf.Module):\n",
              "...   @tf.function\n",
              "...   def __call__(self, x):\n",
              "...     if not hasattr(self, &quot;v&quot;):  # Or set self.v to None in __init__\n",
              "...       self.v = tf.Variable(x)\n",
              "...     return self.v * x\n",
              "&gt;&gt;&gt; m = M()\n",
              "&gt;&gt;&gt; m(2.)\n",
              "&lt;tf.Tensor: shape=(), dtype=float32, numpy=4.0&gt;\n",
              "&gt;&gt;&gt; m(3.)\n",
              "&lt;tf.Tensor: shape=(), dtype=float32, numpy=6.0&gt;\n",
              "&gt;&gt;&gt; m.v\n",
              "&lt;tf.Variable ... shape=() dtype=float32, numpy=2.0&gt;\n",
              "\n",
              "See the `tf.function` documentation for details.</pre>\n",
              "      <script>\n",
              "      if (google.colab.kernel.accessAllowed && google.colab.files && google.colab.files.view) {\n",
              "        for (const element of document.querySelectorAll('.filepath')) {\n",
              "          element.style.display = 'block'\n",
              "          element.onclick = (event) => {\n",
              "            event.preventDefault();\n",
              "            event.stopPropagation();\n",
              "            google.colab.files.view(element.textContent, 201);\n",
              "          };\n",
              "        }\n",
              "      }\n",
              "      for (const element of document.querySelectorAll('.function-repr-contents')) {\n",
              "        element.onclick = (event) => {\n",
              "          event.preventDefault();\n",
              "          event.stopPropagation();\n",
              "          element.classList.toggle('function-repr-contents-collapsed');\n",
              "        };\n",
              "      }\n",
              "      </script>\n",
              "      </div>"
            ],
            "text/plain": [
              "tensorflow.python.ops.variables.Variable"
            ]
          },
          "execution_count": 14,
          "metadata": {},
          "output_type": "execute_result"
        }
      ],
      "source": [
        "tf.Variable"
      ]
    },
    {
      "cell_type": "markdown",
      "metadata": {
        "id": "F1Me0YFAdatW"
      },
      "source": [
        "### Creating tensors with tf.Variable"
      ]
    },
    {
      "cell_type": "code",
      "execution_count": null,
      "metadata": {
        "colab": {
          "base_uri": "https://localhost:8080/"
        },
        "id": "xmu_CIJadjHq",
        "outputId": "74123801-8aac-479b-81a0-dbb3a7c20b64"
      },
      "outputs": [
        {
          "data": {
            "text/plain": [
              "(<tf.Variable 'Variable:0' shape=(2,) dtype=int32, numpy=array([10,  7], dtype=int32)>,\n",
              " <tf.Tensor: shape=(2,), dtype=int32, numpy=array([10,  7], dtype=int32)>)"
            ]
          },
          "execution_count": 15,
          "metadata": {},
          "output_type": "execute_result"
        }
      ],
      "source": [
        "# Create the same Tensor with tf.Variable() as above\n",
        "changable_tensor = tf.Variable([10, 7])\n",
        "unchangable_tensor = tf.constant([10, 7])\n",
        "changable_tensor, unchangable_tensor"
      ]
    },
    {
      "cell_type": "code",
      "execution_count": null,
      "metadata": {
        "colab": {
          "base_uri": "https://localhost:8080/",
          "height": 176
        },
        "id": "V4-0d3KdeVSu",
        "outputId": "3477d4ef-e006-419b-eb42-cf4170dec2f4"
      },
      "outputs": [
        {
          "ename": "TypeError",
          "evalue": "'ResourceVariable' object does not support item assignment",
          "output_type": "error",
          "traceback": [
            "\u001b[0;31m---------------------------------------------------------------------------\u001b[0m",
            "\u001b[0;31mTypeError\u001b[0m                                 Traceback (most recent call last)",
            "\u001b[0;32m<ipython-input-16-01735fa9c70f>\u001b[0m in \u001b[0;36m<cell line: 2>\u001b[0;34m()\u001b[0m\n\u001b[1;32m      1\u001b[0m \u001b[0;31m# Let's try cahnge one of the elements in our changanle tensor\u001b[0m\u001b[0;34m\u001b[0m\u001b[0;34m\u001b[0m\u001b[0m\n\u001b[0;32m----> 2\u001b[0;31m \u001b[0mchangable_tensor\u001b[0m\u001b[0;34m[\u001b[0m\u001b[0;36m0\u001b[0m\u001b[0;34m]\u001b[0m \u001b[0;34m=\u001b[0m \u001b[0;36m7\u001b[0m\u001b[0;34m\u001b[0m\u001b[0;34m\u001b[0m\u001b[0m\n\u001b[0m\u001b[1;32m      3\u001b[0m \u001b[0mchangable_tensor\u001b[0m\u001b[0;34m\u001b[0m\u001b[0;34m\u001b[0m\u001b[0m\n",
            "\u001b[0;31mTypeError\u001b[0m: 'ResourceVariable' object does not support item assignment"
          ]
        }
      ],
      "source": [
        "# Let's try cahnge one of the elements in our changanle tensor\n",
        "changable_tensor[0] = 7\n",
        "changable_tensor"
      ]
    },
    {
      "cell_type": "code",
      "execution_count": null,
      "metadata": {
        "id": "lUn21EAvepta"
      },
      "outputs": [],
      "source": [
        "# How about we try .assign()\n",
        "changable_tensor[0].assign(7)\n",
        "changable_tensor"
      ]
    },
    {
      "cell_type": "code",
      "execution_count": null,
      "metadata": {
        "id": "gi9miMEDe1AI"
      },
      "outputs": [],
      "source": [
        "# Let's try to change our unchangable_tensor\n",
        "unchangable_tensor[0] = 7"
      ]
    },
    {
      "cell_type": "code",
      "execution_count": null,
      "metadata": {
        "id": "LbuECoFNfDcR"
      },
      "outputs": [],
      "source": [
        "unchangable_tensor[0].assign(7)"
      ]
    },
    {
      "cell_type": "markdown",
      "metadata": {
        "id": "LoGhM5P0f8Nc"
      },
      "source": [
        "🔑Note: Rarely in practice will you need to decide whether to use tf.constant or tf.Variable to create tensors, as TensorFlow does this for you. However, if in doubt, use tf.constant and change it later if needed."
      ]
    },
    {
      "cell_type": "markdown",
      "metadata": {
        "id": "_IgUKZUpfN71"
      },
      "source": [
        "### Creating random tensors\n",
        "\n",
        "Random tensors are tensors of some abitrary size which contain random numbers."
      ]
    },
    {
      "cell_type": "code",
      "execution_count": null,
      "metadata": {
        "colab": {
          "background_save": true
        },
        "id": "xNiCt1fZf2jw",
        "outputId": "eb1734a8-1371-49e6-a69f-39d4b18826d1"
      },
      "outputs": [
        {
          "data": {
            "text/plain": [
              "(<tf.Tensor: shape=(3, 2), dtype=float32, numpy=\n",
              " array([[-0.7565803 , -0.06854702],\n",
              "        [ 0.07595026, -1.2573844 ],\n",
              "        [-0.23193763, -1.8107855 ]], dtype=float32)>,\n",
              " <tf.Tensor: shape=(3, 2), dtype=float32, numpy=\n",
              " array([[-0.7565803 , -0.06854702],\n",
              "        [ 0.07595026, -1.2573844 ],\n",
              "        [-0.23193763, -1.8107855 ]], dtype=float32)>,\n",
              " <tf.Tensor: shape=(3, 2), dtype=bool, numpy=\n",
              " array([[ True,  True],\n",
              "        [ True,  True],\n",
              "        [ True,  True]])>)"
            ]
          },
          "execution_count": 19,
          "metadata": {},
          "output_type": "execute_result"
        }
      ],
      "source": [
        "# Create two random (but the same) tensors\n",
        "random_1 = tf.random.Generator.from_seed(42) # set seed for reproducibility\n",
        "random_1 = random_1.normal(shape= (3, 2)) # normal for normal distubrution\n",
        "random_2 = tf.random.Generator.from_seed(42)\n",
        "random_2 = random_2.normal(shape=(3, 2))\n",
        "\n",
        "# Are they equal?\n",
        "random_1, random_2, random_1 == random_2"
      ]
    },
    {
      "cell_type": "code",
      "execution_count": null,
      "metadata": {
        "colab": {
          "background_save": true
        },
        "id": "qYnxF9-qH8pN",
        "outputId": "9308d17c-3a2f-4726-e5e0-aaaaaee3bab6"
      },
      "outputs": [
        {
          "name": "stdout",
          "output_type": "stream",
          "text": [
            "tf.Tensor([4.807335 5.827237 3.705618], shape=(3,), dtype=float32)\n"
          ]
        }
      ],
      "source": [
        "tf.random.set_seed(42)\n",
        "\n",
        "random_bezan = tf.random.uniform(shape= (3, 4), minval = 0, maxval=10)\n",
        "print(tf.reduce_mean(random_bezan, axis=1))"
      ]
    },
    {
      "cell_type": "markdown",
      "metadata": {
        "id": "cSIArnYeGC5A"
      },
      "source": [
        "### Shuffle a tensor (valuable for you want to shuffle youre data so the inherent order doesn't effect learning )"
      ]
    },
    {
      "cell_type": "code",
      "execution_count": null,
      "metadata": {
        "colab": {
          "background_save": true
        },
        "id": "9REQx-4DIwOu",
        "outputId": "b6c29fd6-5571-49f7-996c-3b8284776dd8"
      },
      "outputs": [
        {
          "data": {
            "text/plain": [
              "<tf.Tensor: shape=(3, 4), dtype=float32, numpy=\n",
              "array([[6.6456213 , 4.4100676 , 3.528825  , 4.6448255 ],\n",
              "       [0.33660412, 6.8467236 , 7.4011745 , 8.724445  ],\n",
              "       [2.2632635 , 2.2319686 , 3.103881  , 7.223358  ]], dtype=float32)>"
            ]
          },
          "execution_count": 21,
          "metadata": {},
          "output_type": "execute_result"
        }
      ],
      "source": [
        "random_bezan"
      ]
    },
    {
      "cell_type": "code",
      "execution_count": null,
      "metadata": {
        "colab": {
          "background_save": true
        },
        "id": "MEa2zYaQOhTd",
        "outputId": "95d22478-7e85-476d-8206-e808ed3b5783"
      },
      "outputs": [
        {
          "data": {
            "text/plain": [
              "<tf.Tensor: shape=(3, 2), dtype=int32, numpy=\n",
              "array([[98, 43],\n",
              "       [19, 94],\n",
              "       [32, 13]], dtype=int32)>"
            ]
          },
          "execution_count": 22,
          "metadata": {},
          "output_type": "execute_result"
        }
      ],
      "source": [
        "not_shuffled = tf.random.Generator.from_seed(42)\n",
        "not_shuffled = tf.random.uniform(shape=(3, 2), dtype=tf.int32, maxval=100, minval=0)\n",
        "\n",
        "not_shuffled"
      ]
    },
    {
      "cell_type": "code",
      "execution_count": null,
      "metadata": {
        "colab": {
          "background_save": true
        },
        "id": "NHqpnnITMAHZ",
        "outputId": "8c59667b-5119-45e2-89b4-2d8560e8659a"
      },
      "outputs": [
        {
          "data": {
            "text/plain": [
              "<tf.Tensor: shape=(3, 2), dtype=int32, numpy=\n",
              "array([[32, 13],\n",
              "       [98, 43],\n",
              "       [19, 94]], dtype=int32)>"
            ]
          },
          "execution_count": 23,
          "metadata": {},
          "output_type": "execute_result"
        }
      ],
      "source": [
        "# shuffle our  non shuffled tensor\n",
        "tf.random.set_seed(42)\n",
        "shuffled =  tf.random.shuffle(not_shuffled ,seed=0)\n",
        "shuffled"
      ]
    },
    {
      "cell_type": "markdown",
      "metadata": {
        "id": "BlWgo4UiMazX"
      },
      "source": [
        "🛠️ **Exercise: ** Read through TensorFlow doumentation on randome seed generator and practice writing 5 random seeds and shuffle them.\n",
        "It looks like we want our shuffled tensors to be in the same order, we've got to use the global level random seed as well as the operation level random seed:\n",
        "> Rull 4: \"If both the flobal and the operation seed are set Both seeds are used in conjuction to determine the random sequence\"\n"
      ]
    },
    {
      "cell_type": "code",
      "execution_count": null,
      "metadata": {
        "id": "q-hIC4POPkRY"
      },
      "outputs": [],
      "source": [
        "tf.random.set_seed(42) # Global level random seed\n",
        "tf.random.shuffle(not_shuffled, seed=(42)) # Operation level random seed"
      ]
    },
    {
      "cell_type": "markdown",
      "metadata": {
        "id": "jcVNprcG0rDR"
      },
      "source": [
        "import random\n",
        "for i in range(10):\n",
        "  print(*range(1, 10, 3))"
      ]
    },
    {
      "cell_type": "markdown",
      "metadata": {
        "id": "S-GcWq721jP0"
      },
      "source": [
        "### Other ways to make tensors:\n"
      ]
    },
    {
      "cell_type": "markdown",
      "metadata": {
        "id": "ulLU7kIm2BEL"
      },
      "source": [
        "#### NumPy ones\n",
        "Since NumPy tensors are the same as the TensorFlow tensors we can be using numpy finction in TensorFlow"
      ]
    },
    {
      "cell_type": "code",
      "execution_count": null,
      "metadata": {
        "id": "6MyjmIua2CgM"
      },
      "outputs": [],
      "source": [
        "tf.ones(shape= (10, 7))"
      ]
    },
    {
      "cell_type": "markdown",
      "metadata": {
        "id": "-Ieab1qv2Qvu"
      },
      "source": [
        "#### NumPy Zeros"
      ]
    },
    {
      "cell_type": "code",
      "execution_count": null,
      "metadata": {
        "id": "l02jRowW2cZG"
      },
      "outputs": [],
      "source": [
        "tf.zeros(shape=(10, 7))"
      ]
    },
    {
      "cell_type": "markdown",
      "metadata": {
        "id": "um89i2Qt2fdr"
      },
      "source": [
        "\n",
        "#### NumPy linspace, eye"
      ]
    },
    {
      "cell_type": "code",
      "execution_count": null,
      "metadata": {
        "id": "XBP5hcDz2lwd"
      },
      "outputs": [],
      "source": [
        "tf.linspace(1, 10 ,10)"
      ]
    },
    {
      "cell_type": "code",
      "execution_count": null,
      "metadata": {
        "id": "duLXuzJo2tqe"
      },
      "outputs": [],
      "source": [
        "tf.eye(5, 5)"
      ]
    },
    {
      "cell_type": "markdown",
      "metadata": {
        "id": "ucGtmpC04e5B"
      },
      "source": [
        "### Turn NumPy arrays into tensors\n",
        "The main deifference between NumPy arrays and Tensorflos tensors is that tensors can by run on the GPU computing."
      ]
    },
    {
      "cell_type": "code",
      "execution_count": null,
      "metadata": {
        "id": "-aj2dAtM3Rzq"
      },
      "outputs": [],
      "source": [
        "# You can also turn NumPy arrays into tensors\n",
        "import numpy as np\n",
        "numpy_A = np.arange(1, 25, dtype=np.int32) # Create a NumPy array between 1 and 25\n",
        "numpy_A\n",
        "\n",
        "# x = tf.constant(some_matrix) # capital for Matrix or tensor\n",
        "# y = tf.constant(vector) # non-capital for vector"
      ]
    },
    {
      "cell_type": "code",
      "execution_count": null,
      "metadata": {
        "id": "Il2NnDHr5TDx"
      },
      "outputs": [],
      "source": [
        "A = tf.constant(numpy_A)\n",
        "A, type(A), type(numpy_A)"
      ]
    },
    {
      "cell_type": "code",
      "execution_count": null,
      "metadata": {
        "id": "4nPlxrjT5eGR"
      },
      "outputs": [],
      "source": [
        "B = tf.constant(numpy_A, shape=(2, 3, 4))\n",
        "B"
      ]
    },
    {
      "cell_type": "code",
      "execution_count": null,
      "metadata": {
        "id": "2KUMia_P5wIk"
      },
      "outputs": [],
      "source": [
        " A = tf.constant(numpy_A, shape=(3, 8))\n",
        " A"
      ]
    },
    {
      "cell_type": "code",
      "execution_count": null,
      "metadata": {
        "id": "g-KcWqj2LJLx"
      },
      "outputs": [],
      "source": [
        "tf.random.set_seed(42)\n",
        "a = tf.random.uniform(shape=(2, 5), minval=0, maxval=10, dtype=tf.int32)\n",
        "a"
      ]
    },
    {
      "cell_type": "code",
      "execution_count": null,
      "metadata": {
        "id": "u_izboYcLfcd"
      },
      "outputs": [],
      "source": [
        "b = tf.constant(a, shape=(5, 2))\n",
        "b"
      ]
    },
    {
      "cell_type": "markdown",
      "metadata": {
        "id": "fqxvMhP068Ls"
      },
      "source": [
        "### Getting information from tensors\n",
        "When dealing with tensoes you probably want to be aware of the fallowing attributes:\n",
        "* Shape\n",
        "* Rank\n",
        "* Axis or dimention\n",
        "* Size"
      ]
    },
    {
      "cell_type": "code",
      "execution_count": null,
      "metadata": {
        "id": "444z8nV47PFn"
      },
      "outputs": [],
      "source": [
        "# Create a rank 4 tensor (4 dimentions)\n",
        "rank_4_tensor = tf.zeros(shape=(2, 3, 4, 5))\n",
        "rank_4_tensor"
      ]
    },
    {
      "cell_type": "code",
      "execution_count": null,
      "metadata": {
        "id": "kUCm2AQv95xx"
      },
      "outputs": [],
      "source": [
        "rank_4_tensor.shape, rank_4_tensor.ndim, tf.size(rank_4_tensor)"
      ]
    },
    {
      "cell_type": "code",
      "execution_count": null,
      "metadata": {
        "id": "SsfYjNnkbmlI"
      },
      "outputs": [],
      "source": [
        "2 * 3 * 4 * 5"
      ]
    },
    {
      "cell_type": "code",
      "execution_count": null,
      "metadata": {
        "id": "7cU838RHb-da"
      },
      "outputs": [],
      "source": [
        "# Get various attributes of our tensor\n",
        "def tensor_info(tensors_name):\n",
        "  \"\"\"\n",
        "  Getting some info from the tensor\n",
        "  dtype, ndim, shape, first and last index of the shape, size\n",
        "\n",
        "  \"\"\"\n",
        "  print(\"Data type pf every element: \", tensors_name.dtype)\n",
        "  print(\"Number of dimensions (rank): \", tensors_name.ndim)\n",
        "  print(\"Shape of tensor: \", tensors_name.shape)\n",
        "  print(\"Elements along the 0 axis: \", tensors_name.shape[0])\n",
        "  print(\"Elemetns along the last axis: \", tensors_name.shape[-1])\n",
        "  print(\"Total number of elements in our tensor: \", tf.size(tensors_name).numpy()) # ADDING the .numpy() is for getting the number only"
      ]
    },
    {
      "cell_type": "code",
      "execution_count": null,
      "metadata": {
        "id": "p8sbh-DJdFzF"
      },
      "outputs": [],
      "source": [
        "tensor_info(rank_4_tensor)"
      ]
    },
    {
      "cell_type": "code",
      "execution_count": null,
      "metadata": {
        "id": "Ye6Pgziedfql"
      },
      "outputs": [],
      "source": [
        "tf.random.set_seed(42)\n",
        "rank_4_random = tf.random.uniform(minval=1, maxval=100, shape=(2, 3, 4, 5), dtype=tf.int32)\n",
        "rank_4_random"
      ]
    },
    {
      "cell_type": "markdown",
      "metadata": {
        "id": "bduoPmkqeuO9"
      },
      "source": [
        "\n",
        "### Indexing tensors\n",
        "\n",
        "Tensors can be indexed just like Python lists.\n"
      ]
    },
    {
      "cell_type": "code",
      "execution_count": null,
      "metadata": {
        "id": "k7jhY6KpedLE"
      },
      "outputs": [],
      "source": [
        "# Get the first 2 elements of each dimension\n",
        "rank_4_random[:2, :2, :2, :2]"
      ]
    },
    {
      "cell_type": "code",
      "execution_count": null,
      "metadata": {
        "id": "UTQsktE5fG0v"
      },
      "outputs": [],
      "source": [
        "# Get the first element of each dimention of each index except the final one\n",
        "rank_4_random[:1, :1, :1, :]"
      ]
    },
    {
      "cell_type": "code",
      "execution_count": null,
      "metadata": {
        "id": "e3-cBFLcf2Y0"
      },
      "outputs": [],
      "source": [
        "rank_4_tensor.shape"
      ]
    },
    {
      "cell_type": "code",
      "execution_count": null,
      "metadata": {
        "id": "QvTNSWGugSoP"
      },
      "outputs": [],
      "source": [
        "rank_4_random[:1, :1, :, :1]"
      ]
    },
    {
      "cell_type": "code",
      "execution_count": null,
      "metadata": {
        "id": "ps-1H6B6gejq"
      },
      "outputs": [],
      "source": [
        "rank_4_random"
      ]
    },
    {
      "cell_type": "code",
      "execution_count": null,
      "metadata": {
        "id": "WUnuAv3NgpOe"
      },
      "outputs": [],
      "source": [
        "rank_4_random[:, :, :1, :1]"
      ]
    },
    {
      "cell_type": "code",
      "execution_count": null,
      "metadata": {
        "id": "qmXVtq4Aguzg"
      },
      "outputs": [],
      "source": [
        "# Create a rank 2 tensor:\n",
        "tf.random.set_seed(42)\n",
        "rank_2_tensor = tf.random.uniform(minval=1, maxval=100, shape=(2, 2), dtype = tf.int32)\n",
        "rank_2_tensor"
      ]
    },
    {
      "cell_type": "code",
      "execution_count": null,
      "metadata": {
        "id": "2KYVErfjiRPm"
      },
      "outputs": [],
      "source": [
        "tensor_info(rank_2_tensor)"
      ]
    },
    {
      "cell_type": "code",
      "execution_count": null,
      "metadata": {
        "id": "QgB84CkHj9Ts"
      },
      "outputs": [],
      "source": [
        "# Create a list\n",
        "some_list = [1, 2, 3, 4]"
      ]
    },
    {
      "cell_type": "code",
      "execution_count": null,
      "metadata": {
        "id": "erFkSmYmjZNo"
      },
      "outputs": [],
      "source": [
        "# Get the last item of each of our rank 2 tensor and the list\n",
        "rank_2_tensor[:, -1], some_list[-1]"
      ]
    },
    {
      "cell_type": "code",
      "execution_count": null,
      "metadata": {
        "id": "7pBvd-jCj3EN"
      },
      "outputs": [],
      "source": [
        "# Add in extra dimension to our rank 2 tensor\n",
        "rank_3_tensor = rank_2_tensor[..., tf.newaxis] # (...) means all the axis before the new axis\n",
        "rank_3_tensor"
      ]
    },
    {
      "cell_type": "code",
      "execution_count": null,
      "metadata": {
        "id": "SQZGLqGKkdBo"
      },
      "outputs": [],
      "source": [
        "# Alternative to tf.newaxis\n",
        "tf.expand_dims(rank_2_tensor, axis= -1) # \"-1\" means expand the final axis if the first one is what you want you should do axis = 0"
      ]
    },
    {
      "cell_type": "code",
      "execution_count": null,
      "metadata": {
        "id": "U3En3NUOxomB"
      },
      "outputs": [],
      "source": [
        "tf.expand_dims(rank_2_tensor, axis= 0)"
      ]
    },
    {
      "cell_type": "code",
      "execution_count": null,
      "metadata": {
        "id": "W8bmMzW2yQP4"
      },
      "outputs": [],
      "source": [
        "rank_2_tensor"
      ]
    },
    {
      "cell_type": "markdown",
      "metadata": {
        "id": "zRrE0iD-ylX1"
      },
      "source": [
        "## Maniopulate Tensors (tensor operations)\n",
        "\n",
        "**Basic operation**\n",
        "`+`, `-`, `*`, `/`"
      ]
    },
    {
      "cell_type": "code",
      "execution_count": null,
      "metadata": {
        "id": "2GEr_99KzMb7"
      },
      "outputs": [],
      "source": [
        " # You can add values to a tensor using the addition operator\n",
        " tensor = tf.constant([[10, 7], [3, 4]])\n",
        " tensor + 10"
      ]
    },
    {
      "cell_type": "code",
      "execution_count": null,
      "metadata": {
        "id": "E7Nv7w4GzUa6"
      },
      "outputs": [],
      "source": [
        "# Original tensor is unchanged\n",
        "tensor"
      ]
    },
    {
      "cell_type": "code",
      "execution_count": null,
      "metadata": {
        "id": "3X254IRvzdHM"
      },
      "outputs": [],
      "source": [
        "# In order to change it we have to do as so:\n",
        "tensor += 10 # tensor = tensor + 10\n",
        "tensor"
      ]
    },
    {
      "cell_type": "code",
      "execution_count": null,
      "metadata": {
        "id": "UfylhGWdzlo7"
      },
      "outputs": [],
      "source": [
        "# Multiplication also works\n",
        "tensor * 10"
      ]
    },
    {
      "cell_type": "code",
      "execution_count": null,
      "metadata": {
        "id": "wOjBf7cNzu8G"
      },
      "outputs": [],
      "source": [
        "# Subtraction if you want to\n",
        "tensor - 10"
      ]
    },
    {
      "cell_type": "code",
      "execution_count": null,
      "metadata": {
        "id": "CenRSv-Vz2nd"
      },
      "outputs": [],
      "source": [
        "# Division maybe\n",
        "tensor / 10"
      ]
    },
    {
      "cell_type": "code",
      "execution_count": null,
      "metadata": {
        "id": "gFcR_KFwz9-T"
      },
      "outputs": [],
      "source": [
        "# We can use the tenserflow built_in function:\n",
        "tf.multiply(tensor, 10)"
      ]
    },
    {
      "cell_type": "markdown",
      "metadata": {
        "id": "ZuHmPEfP0HsC"
      },
      "source": [
        "### \\**Matirix multiplication**\n",
        "\n",
        "In machine leanring, matrix multiplication is one of the most common tensor operations\n",
        "\n",
        "There are two rules that our tensors (or matrices) need to fulfil if we're going to matrix multiply them:\n",
        "\n",
        "1. The inner dimension must match\n",
        "2. The resulting matrix has the shape of the outer dimension"
      ]
    },
    {
      "cell_type": "code",
      "execution_count": null,
      "metadata": {
        "id": "J_WyTSzN03vh"
      },
      "outputs": [],
      "source": [
        "# Matrix multiplication in tenserflow\n",
        "print(tensor)\n",
        "tf.linalg.matmul(tensor, tensor) # dot_product multiplication"
      ]
    },
    {
      "cell_type": "code",
      "execution_count": null,
      "metadata": {
        "id": "ylLzgByv2uTk"
      },
      "outputs": [],
      "source": [
        "tensor * tensor # Normal mulrtiplication"
      ]
    },
    {
      "cell_type": "code",
      "execution_count": null,
      "metadata": {
        "id": "T4LF07fK3lay"
      },
      "outputs": [],
      "source": [
        "# Let's make 2 tensors and make a dot_product multiplication\n",
        "a = tf.constant([1, 2, 5, 7 ,2 ,1 ,3, 3, 3], shape=(3, 3))\n",
        "b = tf.constant([3, 5, 6, 7, 1 ,8], shape=(3 ,2))\n",
        "tf.matmul(a, b)"
      ]
    },
    {
      "cell_type": "code",
      "execution_count": null,
      "metadata": {
        "id": "WqL3GDqNRCtg"
      },
      "outputs": [],
      "source": [
        "# identiry matrix\n",
        "def identity_matrix_checker(name):\n",
        "  if tf.reduce_all(name @ name == name):\n",
        "    print(\"Yeah\")\n",
        "  else:\n",
        "    print(\"No\")\n",
        "\n",
        "\n",
        "identity_matrix_checker(tf.constant([[2, -3, -5],[-1, 4, 5],[1, -3, -4]]))"
      ]
    },
    {
      "cell_type": "code",
      "execution_count": null,
      "metadata": {
        "id": "ucJ2jWMp4Eo3"
      },
      "outputs": [],
      "source": [
        "# Matrix multiplication with Python operator \"@\" (for the dot_production)\n",
        "tensor @ tensor"
      ]
    },
    {
      "cell_type": "code",
      "execution_count": null,
      "metadata": {
        "id": "8P8G9o_24VGH"
      },
      "outputs": [],
      "source": [
        "tensor.shape"
      ]
    },
    {
      "cell_type": "code",
      "execution_count": null,
      "metadata": {
        "id": "H7Aj17bi4jQX"
      },
      "outputs": [],
      "source": [
        "# Create a tensor of (3, 2)\n",
        "tf.random.set_seed(42)\n",
        "X = tf.random.uniform(minval=1, maxval=10, shape=(3, 2), dtype=tf.int32)\n",
        "\n",
        "# Create another (3, 2) tensor\n",
        "y = tf.random.uniform(minval=1, maxval=10, shape=(3, 2), dtype=tf.int32)\n",
        "\n",
        "X, y"
      ]
    },
    {
      "cell_type": "code",
      "execution_count": null,
      "metadata": {
        "id": "ZqOc1ELX4wmL"
      },
      "outputs": [],
      "source": [
        "# Try to matrix multiply tensors of same shape\n",
        "tf.matmul(X, y)"
      ]
    },
    {
      "cell_type": "code",
      "execution_count": null,
      "metadata": {
        "id": "F5ZJe-zQ5WZh"
      },
      "outputs": [],
      "source": [
        "# using the reshape method\n",
        "X_2 = tf.reshape(X, shape=(2, 3))\n",
        "X_2"
      ]
    },
    {
      "cell_type": "code",
      "execution_count": null,
      "metadata": {
        "id": "IpAOhHx55rDi"
      },
      "outputs": [],
      "source": [
        "X_2 @ y"
      ]
    },
    {
      "cell_type": "code",
      "execution_count": null,
      "metadata": {
        "id": "SkxR-_FM5y9-"
      },
      "outputs": [],
      "source": [
        "# Using the transpose method\n",
        "tf.transpose(X), tf.reshape(X, shape=(2, 3)), X"
      ]
    },
    {
      "cell_type": "code",
      "execution_count": null,
      "metadata": {
        "id": "NnCKcr2_7xc6"
      },
      "outputs": [],
      "source": [
        "# The answewr of the matrix multiplication of reshape and transpose methods arn't the same\n",
        "tf.matmul(tf.transpose(X), y) == tf.matmul(tf.reshape(X , shape=(2, 3)), y)"
      ]
    },
    {
      "cell_type": "markdown",
      "metadata": {
        "id": "bLf0zg-d8mJA"
      },
      "source": [
        "That's cause the transpose just flip the martix insted of reshaping it"
      ]
    },
    {
      "cell_type": "markdown",
      "metadata": {
        "id": "2pVFGyn78JCh"
      },
      "source": [
        "**The Dot Product**\n",
        "\n",
        "The matrix multiplication is also referred as the dot product.\n",
        "\n",
        "you can perform matrix multiplication using:\n",
        "\n",
        "*`tf.matmul()`\n",
        "\n",
        "*`tf.tensordot()`\n",
        "\n",
        "*`@`"
      ]
    },
    {
      "cell_type": "code",
      "execution_count": null,
      "metadata": {
        "id": "5HA9yanH9dLb"
      },
      "outputs": [],
      "source": [
        "X, y"
      ]
    },
    {
      "cell_type": "code",
      "execution_count": null,
      "metadata": {
        "id": "GQksQtND86_k"
      },
      "outputs": [],
      "source": [
        "# Perform the dot product on X and Y (requires X or Y to be transposed)\n",
        "tf.tensordot(tf.transpose(X), y, axes=1)\n"
      ]
    },
    {
      "cell_type": "code",
      "execution_count": null,
      "metadata": {
        "id": "km95DKou9Tw8"
      },
      "outputs": [],
      "source": [
        "# Perform matrix m|ultiplication between X and y (transposed)\n",
        "tf.matmul(X, tf.transpose(y))"
      ]
    },
    {
      "cell_type": "code",
      "execution_count": null,
      "metadata": {
        "id": "LVsxCIKd-CV6"
      },
      "outputs": [],
      "source": [
        "# Perform matrix multiplication between X and y reshape\n",
        "tf.matmul(X, tf.reshape(y, shape=(2, 3)))"
      ]
    },
    {
      "cell_type": "code",
      "execution_count": null,
      "metadata": {
        "id": "lkwWeJYm-Nw_"
      },
      "outputs": [],
      "source": [
        "# Check the values of Y, reshape Y and transposed Y\n",
        "print(\"Normal Y: \")\n",
        "print(y, \"\\n\")\n",
        "\n",
        "print(\"Y reshaped to (2, 3): \")\n",
        "print(tf.reshape(y, shape=(2, 3)), \"\\n\")\n",
        "\n",
        "print(\"Y transposed: \")\n",
        "print(tf.transpose(y))"
      ]
    },
    {
      "cell_type": "code",
      "execution_count": null,
      "metadata": {
        "id": "bBAxKTrA-vMi"
      },
      "outputs": [],
      "source": [
        "tf.matmul(X, tf.transpose(y))"
      ]
    },
    {
      "cell_type": "markdown",
      "metadata": {
        "id": "Rk1kbK67_M9G"
      },
      "source": [
        "Generally, when performing matrix multiplication on two tensors and on of the axes doesn't line up, you'll\n",
        "transpose (rather than reshape) one of the tensors to satisfy the matrix multiplication rules."
      ]
    },
    {
      "cell_type": "code",
      "execution_count": null,
      "metadata": {
        "id": "bRg-W8JODcmm"
      },
      "outputs": [],
      "source": [
        "### Changing the datatype of a tensor"
      ]
    },
    {
      "cell_type": "code",
      "execution_count": null,
      "metadata": {
        "id": "kIaI1X_NDsy1"
      },
      "outputs": [],
      "source": [
        "# Create a new tensor with default datatype (float32)\n",
        "B = tf.constant([1.7, 7.4])\n",
        "B.dtype"
      ]
    },
    {
      "cell_type": "code",
      "execution_count": null,
      "metadata": {
        "id": "k5WXmRCVUwsV"
      },
      "outputs": [],
      "source": [
        "C = tf.constant([7, 10])\n",
        "C.dtype"
      ]
    },
    {
      "cell_type": "code",
      "execution_count": null,
      "metadata": {
        "id": "eRbTPJwFU4fC"
      },
      "outputs": [],
      "source": [
        "# change from float 32 to float64\n",
        "B = tf.cast(B, dtype=tf.float16)\n",
        "B, B.dtype"
      ]
    },
    {
      "cell_type": "code",
      "execution_count": null,
      "metadata": {
        "id": "CikpAeWUVkna"
      },
      "outputs": [],
      "source": [
        "# Change the dtype from float32 to int32\n",
        "E = tf.cast(C, dtype=tf.float32)\n",
        "E"
      ]
    },
    {
      "cell_type": "markdown",
      "metadata": {
        "id": "0gGMBE0TWGsg"
      },
      "source": [
        "# Aggregating tensors\n",
        "Aggregting tensors = condencing them from multiple values down to a smaller amount of values"
      ]
    },
    {
      "cell_type": "code",
      "execution_count": null,
      "metadata": {
        "id": "FfffukI9W5OJ"
      },
      "outputs": [],
      "source": [
        "# Get the absolute values\n",
        "D = tf.constant([-7, -10])\n",
        "D"
      ]
    },
    {
      "cell_type": "code",
      "execution_count": null,
      "metadata": {
        "id": "zUt881PjXCfo"
      },
      "outputs": [],
      "source": [
        "# Get the absolute values\n",
        "tf.abs(D)"
      ]
    },
    {
      "cell_type": "markdown",
      "metadata": {
        "id": "qnwocGpHXGhF"
      },
      "source": [
        "Let's go through the following forms of aggregation:\n",
        "* Get the minimum\n",
        "* Get the maximum\n",
        "* Get the mean of a tensor\n",
        "* Get the sum of a tensor"
      ]
    },
    {
      "cell_type": "code",
      "execution_count": null,
      "metadata": {
        "id": "sjei23auXetF"
      },
      "outputs": [],
      "source": [
        "# Create a random tensor with values between 0 and 100 of size 50\n",
        "E = tf.constant(np.random.randint(0, 100, size= 50))\n",
        "E"
      ]
    },
    {
      "cell_type": "code",
      "execution_count": null,
      "metadata": {
        "id": "QsukX04nlRjz"
      },
      "outputs": [],
      "source": [
        "tf.size(E), E.shape, E.ndim"
      ]
    },
    {
      "cell_type": "code",
      "execution_count": null,
      "metadata": {
        "id": "XGIROkU3lhZd"
      },
      "outputs": [],
      "source": [
        "# Find the minimum\n",
        "tf.reduce_min(E)"
      ]
    },
    {
      "cell_type": "code",
      "execution_count": null,
      "metadata": {
        "id": "VrvL5noLlmZp"
      },
      "outputs": [],
      "source": [
        "# Find the maximum\n",
        "tf.reduce_max(E)"
      ]
    },
    {
      "cell_type": "code",
      "execution_count": null,
      "metadata": {
        "id": "DdwbMOsXlvwd"
      },
      "outputs": [],
      "source": [
        "# Find the mean\n",
        "tf.reduce_mean(E)"
      ]
    },
    {
      "cell_type": "code",
      "execution_count": null,
      "metadata": {
        "id": "LHq7rtoAlzDW"
      },
      "outputs": [],
      "source": [
        "# Find the sum of a tensor\n",
        "tf.reduce_sum(E)"
      ]
    },
    {
      "cell_type": "markdown",
      "metadata": {
        "id": "TmTeQ57al5WV"
      },
      "source": [
        "🛠️**Exercise:** With what We've just learned, find the variance and standard deviation of out `E` tensor usign tensorflow methods."
      ]
    },
    {
      "cell_type": "code",
      "execution_count": null,
      "metadata": {
        "id": "61yTCYuCm6DH"
      },
      "outputs": [],
      "source": [
        "# Find the variance of a tensor\n",
        "tf.math.reduce_variance(E) # Won't work..."
      ]
    },
    {
      "cell_type": "code",
      "execution_count": null,
      "metadata": {
        "id": "Zz2EnKjqnCfA"
      },
      "outputs": [],
      "source": [
        "# To find the variance of our tensor we need access to tensorflow_probability\n",
        "import tensorflow_probability as tfp\n",
        "tfp.stats.variance(E)"
      ]
    },
    {
      "cell_type": "code",
      "execution_count": null,
      "metadata": {
        "id": "lMzZj8kTnwWA"
      },
      "outputs": [],
      "source": [
        "# Find the standard deviation\n",
        "tf.math.reduce_std(E)"
      ]
    },
    {
      "cell_type": "code",
      "execution_count": null,
      "metadata": {
        "id": "XerisXCBoPZp"
      },
      "outputs": [],
      "source": [
        "# Complex the tensor\n",
        "E = tf.cast(E, dtype=tf.complex64)"
      ]
    },
    {
      "cell_type": "code",
      "execution_count": null,
      "metadata": {
        "id": "ZLOVNVhOomCE"
      },
      "outputs": [],
      "source": [
        "tf.math.reduce_std(E)"
      ]
    },
    {
      "cell_type": "code",
      "execution_count": null,
      "metadata": {
        "id": "tbkVFEfOpdSj"
      },
      "outputs": [],
      "source": [
        "# Find the variance of our E tensor\n",
        "tf.math.reduce_variance(E)"
      ]
    },
    {
      "cell_type": "markdown",
      "metadata": {
        "id": "eObS0kwRoyo_"
      },
      "source": [
        "### Find the positional maximum and minimum\n"
      ]
    },
    {
      "cell_type": "code",
      "execution_count": null,
      "metadata": {
        "id": "Ok-G5czzo_6j"
      },
      "outputs": [],
      "source": [
        "# Create a new tensor for finding the positional minimum and maximum\n",
        "tf.random.set_seed(42)\n",
        "F = tf.random.uniform(shape=[50])\n",
        "F"
      ]
    },
    {
      "cell_type": "code",
      "execution_count": null,
      "metadata": {
        "id": "eSvnRt5QqihG"
      },
      "outputs": [],
      "source": [
        "# To find the positional maximum\n",
        "tf.argmax(F)"
      ]
    },
    {
      "cell_type": "code",
      "execution_count": null,
      "metadata": {
        "id": "eNh8r4TAq6WU"
      },
      "outputs": [],
      "source": [
        "# Index on our largest value:\n",
        "F[tf.argmax(F)]"
      ]
    },
    {
      "cell_type": "code",
      "execution_count": null,
      "metadata": {
        "id": "zvWeHnw8rBPk"
      },
      "outputs": [],
      "source": [
        "# Find the max value of F\n",
        "tf.reduce_max(F)"
      ]
    },
    {
      "cell_type": "code",
      "execution_count": null,
      "metadata": {
        "id": "2PkDbKX6rLnZ"
      },
      "outputs": [],
      "source": [
        "# Find the inecies of a tensor\n",
        "tf.random.set_seed(42)\n",
        "M = tf.random.uniform(shape=(3, 4), minval= 1, maxval = 10, dtype=tf.int32)\n",
        "tf.where(tf.equal(M, 8))\n",
        "\n",
        "tf.where(M == 8)"
      ]
    },
    {
      "cell_type": "code",
      "execution_count": null,
      "metadata": {
        "id": "PD9pNS8rr-6Q"
      },
      "outputs": [],
      "source": [
        "# Check the equality\n",
        "assert F[tf.argmax(F)] == tf.reduce_max(F) # assert will cause an error if the they arn't equal"
      ]
    },
    {
      "cell_type": "code",
      "execution_count": null,
      "metadata": {
        "id": "mKmWNKU8stw7"
      },
      "outputs": [],
      "source": [
        "# Find the positional minimum\n",
        "tf.argmin(F)"
      ]
    },
    {
      "cell_type": "code",
      "execution_count": null,
      "metadata": {
        "id": "H3FHkqbqtMDc"
      },
      "outputs": [],
      "source": [
        "# Find the minimum using the positional minimum index\n",
        "F[16]"
      ]
    },
    {
      "cell_type": "markdown",
      "metadata": {
        "id": "hX9FVMqmtR04"
      },
      "source": [
        "### Squeezing a tensor (Removing all single dimension)"
      ]
    },
    {
      "cell_type": "code",
      "execution_count": null,
      "metadata": {
        "id": "B7Dof1Nbtdiv"
      },
      "outputs": [],
      "source": [
        "# Create a tensor\n",
        "tf.random.set_seed(42)\n",
        "G = tf.constant(tf.random.uniform(shape=[50]), shape=(1, 1, 1, 1, 50))\n",
        "G"
      ]
    },
    {
      "cell_type": "code",
      "execution_count": null,
      "metadata": {
        "id": "zzdD5JbzuZE3"
      },
      "outputs": [],
      "source": [
        "G.shape"
      ]
    },
    {
      "cell_type": "code",
      "execution_count": null,
      "metadata": {
        "id": "9oPuPcZbuatS"
      },
      "outputs": [],
      "source": [
        "G_squeezed = tf.squeeze(G)\n",
        "G_squeezed"
      ]
    },
    {
      "cell_type": "code",
      "execution_count": null,
      "metadata": {
        "id": "2VW1KeZHtzc_"
      },
      "outputs": [],
      "source": [
        "# This by numpy also does the same thing\n",
        "g = np.array(G)\n",
        "g.flatten()"
      ]
    },
    {
      "cell_type": "markdown",
      "metadata": {
        "id": "7-hHSHCNuCWj"
      },
      "source": [
        "### One-hot encoding  "
      ]
    },
    {
      "cell_type": "code",
      "execution_count": null,
      "metadata": {
        "id": "C34CN67bAclc"
      },
      "outputs": [],
      "source": [
        "# Create a list of indices\n",
        "some_list = [0 ,1 ,2 ,3] # could be red, green, blue, purple\n",
        "\n",
        "# One-hot encode our list of indices\n",
        "tf.one_hot(some_list, depth=4)"
      ]
    },
    {
      "cell_type": "code",
      "execution_count": null,
      "metadata": {
        "id": "oycdlQ9OA92H"
      },
      "outputs": [],
      "source": [
        "# Specifu custom values for one-hot endcoding\n",
        "tf.one_hot(some_list, depth=4, on_value=\"yo i love deep learning\", off_value=\"I also like to dance\")"
      ]
    },
    {
      "cell_type": "markdown",
      "metadata": {
        "id": "UXmwuUoQBhCL"
      },
      "source": [
        "### Squaring , log, square root"
      ]
    },
    {
      "cell_type": "code",
      "execution_count": null,
      "metadata": {
        "id": "TS8wydrCB55f"
      },
      "outputs": [],
      "source": [
        "# Create a new tensor\n",
        "H = tf.range(1, 10)"
      ]
    },
    {
      "cell_type": "code",
      "execution_count": null,
      "metadata": {
        "id": "nnl2EXRMB9Xr"
      },
      "outputs": [],
      "source": [
        "# Square it\n",
        "tf.square(H)"
      ]
    },
    {
      "cell_type": "code",
      "execution_count": null,
      "metadata": {
        "id": "9eePkOsnCB1_"
      },
      "outputs": [],
      "source": [
        "# Find the square root (Will error, method require non-int type)\n",
        "tf.math.sqrt(tf.cast(H, dtype=tf.float32))"
      ]
    },
    {
      "cell_type": "code",
      "execution_count": null,
      "metadata": {
        "id": "FY4rtDkYCGGw"
      },
      "outputs": [],
      "source": [
        "# Find the log\n",
        "tf.math.log(tf.cast(H, dtype=tf.float32))"
      ]
    },
    {
      "cell_type": "markdown",
      "metadata": {
        "id": "HM5ugMH6CdQX"
      },
      "source": [
        "### Tensors and numpy\n",
        "\n",
        "Tensorflow intracts beautifully with NumPy arrays\n",
        "\n",
        "🔑Note: One of the main differeces between a TensorFlow and a NumPy array is that a TensorFlow tensor can run on both GPU and TPU."
      ]
    },
    {
      "cell_type": "code",
      "execution_count": null,
      "metadata": {
        "id": "TPzWigQfCs3i"
      },
      "outputs": [],
      "source": [
        "# Create a tensor directly from a NumPy tensor\n",
        "J = tf.constant(np.array([3., 7., 10.]))\n",
        "J"
      ]
    },
    {
      "cell_type": "code",
      "execution_count": null,
      "metadata": {
        "id": "iiohoSgbDHwE"
      },
      "outputs": [],
      "source": [
        "# Convert our tensor back to NumPy array\n",
        "np.array(J), type(np.array(J))"
      ]
    },
    {
      "cell_type": "code",
      "execution_count": null,
      "metadata": {
        "id": "rpdRfukpDQtK"
      },
      "outputs": [],
      "source": [
        "# Convert tensor J to a NumPy array\n",
        "J.numpy(), type(J.numpy())"
      ]
    },
    {
      "cell_type": "code",
      "execution_count": null,
      "metadata": {
        "id": "GsZYZXsmDabx"
      },
      "outputs": [],
      "source": [
        "J = tf.constant([3.])\n",
        "J.numpy()[0]"
      ]
    },
    {
      "cell_type": "code",
      "execution_count": null,
      "metadata": {
        "id": "-fQg0A2iDgQn"
      },
      "outputs": [],
      "source": [
        "# The deafault types of each are slightly different\n",
        "numpy_J = tf.constant(np.array([3., 7., 10.]))\n",
        "tensor_J = tf.constant([3., 7., 10])\n",
        "\n",
        "# Check the datatype of each\n",
        "numpy_J.dtype, tensor_J.dtype"
      ]
    },
    {
      "cell_type": "markdown",
      "metadata": {
        "id": "Iq9__V6mEA_w"
      },
      "source": [
        "### Finding acces to GPUs"
      ]
    },
    {
      "cell_type": "code",
      "execution_count": null,
      "metadata": {
        "id": "vnE8CN_bjP1R"
      },
      "outputs": [],
      "source": [
        "tf.config.list_physical_devices()"
      ]
    },
    {
      "cell_type": "code",
      "execution_count": null,
      "metadata": {
        "id": "8_ZFDhA2jl0D",
        "outputId": "53b91ccb-4df4-477a-cf3c-588aa20938cf",
        "colab": {
          "base_uri": "https://localhost:8080/"
        }
      },
      "outputs": [
        {
          "output_type": "stream",
          "name": "stdout",
          "text": [
            "/bin/bash: line 1: nvidia-smi: command not found\n"
          ]
        }
      ],
      "source": [
        "!nvidia-smi"
      ]
    },
    {
      "cell_type": "code",
      "source": [],
      "metadata": {
        "id": "BcIlIpAcrGmJ"
      },
      "execution_count": null,
      "outputs": []
    }
  ],
  "metadata": {
    "colab": {
      "provenance": []
    },
    "kernelspec": {
      "display_name": "Python 3",
      "name": "python3"
    },
    "language_info": {
      "name": "python"
    }
  },
  "nbformat": 4,
  "nbformat_minor": 0
}